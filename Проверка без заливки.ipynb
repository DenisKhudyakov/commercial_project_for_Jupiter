{
  "metadata": {
    "kernelspec": {
      "name": "python",
      "display_name": "Python (Pyodide)",
      "language": "python"
    },
    "language_info": {
      "codemirror_mode": {
        "name": "python",
        "version": 3
      },
      "file_extension": ".py",
      "mimetype": "text/x-python",
      "name": "python",
      "nbconvert_exporter": "python",
      "pygments_lexer": "ipython3",
      "version": "3.8"
    }
  },
  "nbformat_minor": 4,
  "nbformat": 4,
  "cells": [
    {
      "cell_type": "code",
      "source": "%pip install xlwt\n%pip install xlrd\n%pip install openpyxl\nimport numpy as np\nimport pandas as pd",
      "metadata": {
        "trusted": true
      },
      "outputs": [],
      "execution_count": 2
    },
    {
      "cell_type": "code",
      "source": "df = pd.read_excel('2107.xls')\ndf = df.replace({np.nan:0})\nnew_df = df[2:]\nnew_df = new_df[new_df['Unnamed: 6'] - new_df['Unnamed: 9'] > 0]\nnew_df = new_df[(new_df['Unnamed: 5'] == 'Нет') | (new_df['Unnamed: 5'] == 0)]\nresult = pd.concat([df[:3], new_df])\nresult.to_excel('Товары к закупу.xlsx', index=False, header= False)",
      "metadata": {
        "trusted": true
      },
      "outputs": [],
      "execution_count": 3
    },
    {
      "cell_type": "code",
      "source": "",
      "metadata": {
        "trusted": true
      },
      "outputs": [],
      "execution_count": null
    }
  ]
}