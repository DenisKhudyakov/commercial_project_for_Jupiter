{
  "metadata": {
    "kernelspec": {
      "name": "python",
      "display_name": "Python (Pyodide)",
      "language": "python"
    },
    "language_info": {
      "codemirror_mode": {
        "name": "python",
        "version": 3
      },
      "file_extension": ".py",
      "mimetype": "text/x-python",
      "name": "python",
      "nbconvert_exporter": "python",
      "pygments_lexer": "ipython3",
      "version": "3.8"
    }
  },
  "nbformat_minor": 4,
  "nbformat": 4,
  "cells": [
    {
      "cell_type": "code",
      "source": "%pip install xlwt\n%pip install xlrd\n%pip install openpyxl\nimport numpy as np\nimport pandas as pd",
      "metadata": {
        "trusted": true
      },
      "outputs": [],
      "execution_count": 1
    },
    {
      "cell_type": "code",
      "source": "df_sz = pd.read_excel('2107, Часть 5, ОВ, СЗ№1.xlsx')\ndf_etap = pd.read_excel('2107.xls')\nhead_sz = df_sz[:4]\ndf_sz = df_sz[4:]\ndf_etap = df_etap[5:-1][['Unnamed: 0', 'Unnamed: 3']]\ndf_etap = df_etap.rename(columns = {'Unnamed: 3':'Unnamed: 2'})\nresult = pd.merge(df_sz, df_etap, how=\"left\", on='Unnamed: 2')\nfull_result = pd.concat([head_sz, result])\nfull_result.to_excel('Результат сведения таблиц.xlsx', index=False, header= False)",
      "metadata": {
        "trusted": true
      },
      "outputs": [
        {
          "name": "stderr",
          "text": "/lib/python3.11/site-packages/openpyxl/worksheet/header_footer.py:48: UserWarning: Cannot parse header or footer so it will be ignored\n  warn(\"\"\"Cannot parse header or footer so it will be ignored\"\"\")\n",
          "output_type": "stream"
        }
      ],
      "execution_count": 2
    },
    {
      "cell_type": "code",
      "source": "",
      "metadata": {
        "trusted": true
      },
      "outputs": [],
      "execution_count": null
    }
  ]
}