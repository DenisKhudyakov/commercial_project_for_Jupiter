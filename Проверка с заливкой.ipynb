{
  "metadata": {
    "kernelspec": {
      "name": "python",
      "display_name": "Python (Pyodide)",
      "language": "python"
    },
    "language_info": {
      "codemirror_mode": {
        "name": "python",
        "version": 3
      },
      "file_extension": ".py",
      "mimetype": "text/x-python",
      "name": "python",
      "nbconvert_exporter": "python",
      "pygments_lexer": "ipython3",
      "version": "3.8"
    }
  },
  "nbformat_minor": 4,
  "nbformat": 4,
  "cells": [
    {
      "cell_type": "code",
      "source": "%pip install xlwt\n%pip install xlrd\n%pip install Jinja2\n%pip install openpyxl\nimport numpy as np\nimport pandas as pd",
      "metadata": {
        "trusted": true
      },
      "outputs": [],
      "execution_count": 2
    },
    {
      "cell_type": "code",
      "source": "def highlight_greaterthan_1(s):\n    if s['Unnamed: 5'] == 'Да':\n        return ['background-color: green']*12\n    else:\n        return ['background-color: white']*12\ndf = pd.read_excel('2069.xls')\ndf = df.replace({np.nan:0})\nnew_df = df[2:]\nnew_df = new_df[new_df['Unnamed: 6'] - new_df['Unnamed: 9'] > 0]\nnew_df = pd.concat([df[:3], new_df])\nnew_df = new_df.style.apply(highlight_greaterthan_1, axis=1).to_excel('Товары к закупу.xlsx', index=False, header= False, engine='openpyxl')",
      "metadata": {
        "trusted": true
      },
      "outputs": [],
      "execution_count": 3
    }
  ]
}